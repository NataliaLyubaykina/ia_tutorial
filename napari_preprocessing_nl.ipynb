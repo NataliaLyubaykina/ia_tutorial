{
 "cells": [
  {
   "cell_type": "code",
   "execution_count": 1,
   "id": "1448d626-9b77-4c37-be16-1fc810587e7f",
   "metadata": {
    "hideCode": true,
    "hidePrompt": false,
    "scrolled": true,
    "tags": []
   },
   "outputs": [
    {
     "name": "stderr",
     "output_type": "stream",
     "text": [
      "/home/natalia/miniconda3/envs/ia_tutorial/lib/python3.11/site-packages/pytools/persistent_dict.py:52: RecommendedHashNotFoundWarning: Unable to import recommended hash 'siphash24.siphash13', falling back to 'hashlib.sha256'. Run 'python3 -m pip install siphash24' to install the recommended hash.\n",
      "  warn(\"Unable to import recommended hash 'siphash24.siphash13', \"\n"
     ]
    }
   ],
   "source": [
    "import numpy as np\n",
    "import pandas as pd\n",
    "import matplotlib.pylab as plt\n",
    "import os\n",
    "import ipywidgets as widgets\n",
    "\n",
    "import pyclesperanto_prototype as cle\n",
    "from scipy import ndimage\n",
    "import napari\n",
    "import tifffile"
   ]
  },
  {
   "cell_type": "markdown",
   "id": "8b9efc54-069e-45db-89e5-8c193de7d526",
   "metadata": {},
   "source": [
    "# GPU device"
   ]
  },
  {
   "cell_type": "code",
   "execution_count": 2,
   "id": "8108304d-b9b8-490f-b2fd-a854ba014205",
   "metadata": {},
   "outputs": [
    {
     "name": "stdout",
     "output_type": "stream",
     "text": [
      "Device name: NVIDIA GeForce RTX 4090\n"
     ]
    }
   ],
   "source": [
    "device = cle.get_device()\n",
    "print(\"Device name:\", device.name)"
   ]
  },
  {
   "cell_type": "markdown",
   "id": "76b69f90-30a0-4213-8f87-49f20bcc5ff4",
   "metadata": {},
   "source": [
    "# Load image (can be ignored for the first read)"
   ]
  },
  {
   "cell_type": "markdown",
   "id": "94a2d972-19fd-4266-ac47-3dae4ba8b77a",
   "metadata": {},
   "source": [
    "## Information about the image from metadata)"
   ]
  },
  {
   "cell_type": "code",
   "execution_count": 3,
   "id": "e678f942-3da3-448c-9d30-9ea21e1bff63",
   "metadata": {
    "hideCode": true,
    "tags": []
   },
   "outputs": [],
   "source": [
    "channels = {\n",
    "            \"fgf\":   0, \n",
    "            \"shh\":   1\n",
    "           }\n",
    "\n",
    "\n",
    "# Voxel size\n",
    "pixel_size_x, pixel_size_y, pixel_size_z = 2*0.9019, 2*0.9019, 2*3.9991"
   ]
  },
  {
   "cell_type": "markdown",
   "id": "a284ecbd-eacc-4cce-b82b-9850e8ee9e70",
   "metadata": {},
   "source": [
    "## Fixed values for image preprocessing"
   ]
  },
  {
   "cell_type": "code",
   "execution_count": 4,
   "id": "8615afc2-7195-49fc-8b2d-7c2b10501321",
   "metadata": {},
   "outputs": [],
   "source": [
    "pixel_size_aim_user_def = 8e-6 # pixel size for binning\n",
    "sigma = 1.25                      # for gauss filter before thresholding"
   ]
  },
  {
   "cell_type": "markdown",
   "id": "6a6d086b-c7e8-4f40-a8ed-b3832bd87763",
   "metadata": {},
   "source": [
    "## Load files"
   ]
  },
  {
   "cell_type": "code",
   "execution_count": 5,
   "id": "5c3fd9e8-5960-4eae-8999-ddbe9a946f32",
   "metadata": {
    "hideOutput": false,
    "tags": []
   },
   "outputs": [],
   "source": [
    "folder = r'example_images/nl/'"
   ]
  },
  {
   "cell_type": "code",
   "execution_count": 6,
   "id": "e1bacf18-e2f3-4eae-97e1-ed90c82c2dc1",
   "metadata": {},
   "outputs": [],
   "source": [
    "ch_paths = []\n",
    "\n",
    "# Traverse the directory tree to find matching files\n",
    "for root, dirs, files in os.walk(folder, topdown=False):\n",
    "    for current_file in files:\n",
    "        ch_paths.append(os.path.join(root, current_file))"
   ]
  },
  {
   "cell_type": "code",
   "execution_count": 7,
   "id": "882ecf7b-3551-4c5a-9709-6d76311d42a3",
   "metadata": {},
   "outputs": [],
   "source": [
    "ch_paths = sorted(\n",
    "    ch_paths,\n",
    "    key = lambda c: c.split('/c')[1].split('_')[0]\n",
    ")"
   ]
  },
  {
   "cell_type": "code",
   "execution_count": 8,
   "id": "289af06e-a752-455d-893a-024faca018fe",
   "metadata": {
    "tags": []
   },
   "outputs": [],
   "source": [
    "img = []\n",
    "for path in ch_paths:\n",
    "    i = tifffile.imread(path)\n",
    "    img.append(i[::, ::, ::])\n",
    "img = np.array(img).astype( np.uint16 )\n",
    "\n",
    "img = dict(zip(channels, img))"
   ]
  },
  {
   "cell_type": "markdown",
   "id": "68f2541e-7994-4e84-ae23-fdf7ac4a9564",
   "metadata": {},
   "source": [
    "## Binning"
   ]
  },
  {
   "cell_type": "code",
   "execution_count": 9,
   "id": "8576af70-3dbc-4cde-a506-c65d23221cd8",
   "metadata": {},
   "outputs": [
    {
     "name": "stdout",
     "output_type": "stream",
     "text": [
      "physical pixels sizes x, y, z:    1.8038 1.8038 7.9982\n",
      "downsamples pixels sizes x, y, z: 1.8038e-06 1.8038e-06 7.998199999999999e-06\n"
     ]
    }
   ],
   "source": [
    "print('physical pixels sizes x, y, z:   ', pixel_size_x, pixel_size_y, pixel_size_z)\n",
    "\n",
    "pixel_size_z = pixel_size_z * 1e-6\n",
    "pixel_size_y = pixel_size_y * 1e-6\n",
    "pixel_size_x = pixel_size_x * 1e-6\n",
    "\n",
    "pixel_size = np.array([pixel_size_z, -pixel_size_y, pixel_size_x]) # (ez, ey, ex) corresponds k, i, j table indexes\n",
    "\n",
    "print('downsamples pixels sizes x, y, z:', pixel_size_x, pixel_size_y, pixel_size_z)"
   ]
  },
  {
   "cell_type": "code",
   "execution_count": 10,
   "id": "1fed87c4-66ac-485f-bd1a-ad44771b52f3",
   "metadata": {
    "hideCode": true,
    "tags": []
   },
   "outputs": [
    {
     "name": "stdout",
     "output_type": "stream",
     "text": [
      "make isotropic\n",
      "original pixel sizes x y z 1.8038e-06 1.8038e-06 7.998199999999999e-06\n",
      "scaling facttors x y z 0.225475 0.225475 0.999775\n"
     ]
    }
   ],
   "source": [
    "print('make isotropic')\n",
    "\n",
    "pixel_size_aim = pixel_size_aim_user_def\n",
    "\n",
    "scaling_x= pixel_size_x/pixel_size_aim\n",
    "scaling_y= pixel_size_y/pixel_size_aim\n",
    "scaling_z= pixel_size_z/pixel_size_aim\n",
    "\n",
    "print('original pixel sizes x y z', pixel_size_x, pixel_size_y, pixel_size_z )\n",
    "print('scaling facttors x y z', scaling_x, scaling_y, scaling_z)"
   ]
  },
  {
   "cell_type": "code",
   "execution_count": 11,
   "id": "53201ec0-ada5-4314-8ec6-d9129c73a873",
   "metadata": {
    "tags": []
   },
   "outputs": [],
   "source": [
    "for key in img:\n",
    "    img[key] = cle.scale(img[key], None, scaling_x, scaling_y, scaling_z, centered=False, auto_size=True, linear_interpolation=True)\n",
    "    img[key] = (np.array(img[key])).astype( np.uint16 )\n",
    "\n",
    "pixel_size = np.array([pixel_size_aim, -pixel_size_aim, pixel_size_aim])"
   ]
  },
  {
   "cell_type": "markdown",
   "id": "665aa15a-ce1d-45f7-880d-d897ed9b8dae",
   "metadata": {},
   "source": [
    "# Launch napari to preprocess with napari assistant"
   ]
  },
  {
   "cell_type": "code",
   "execution_count": 12,
   "id": "cb131ecb-03f9-4d3d-a34a-794fa3c5bcfe",
   "metadata": {},
   "outputs": [],
   "source": [
    "image_2d = img['shh'][12, :, :]"
   ]
  },
  {
   "cell_type": "code",
   "execution_count": 13,
   "id": "7b5af53f-309e-4bfe-b9b5-ad69fda3816f",
   "metadata": {},
   "outputs": [
    {
     "name": "stdout",
     "output_type": "stream",
     "text": [
      "Assistant skips harvesting pyclesperanto as it's not installed.\n"
     ]
    },
    {
     "data": {
      "text/plain": [
       "<Image layer 'image_2d' at 0x7f634dfcb6d0>"
      ]
     },
     "execution_count": 13,
     "metadata": {},
     "output_type": "execute_result"
    }
   ],
   "source": [
    "viewer = napari.Viewer()  \n",
    "\n",
    "viewer.add_image( image_2d )"
   ]
  },
  {
   "cell_type": "code",
   "execution_count": 14,
   "id": "e96fb17b-9a0c-48fb-b3b2-eae774c6db65",
   "metadata": {},
   "outputs": [
    {
     "data": {
      "text/plain": [
       "<Image layer 'Result of subtract_gaussian_background (pyclesperanto_prototype)' at 0x7f6338451410>"
      ]
     },
     "execution_count": 14,
     "metadata": {},
     "output_type": "execute_result"
    }
   ],
   "source": [
    "# code generated by napari-assistant\n",
    "\n",
    "from skimage.io import imread\n",
    "import stackview\n",
    "import pyclesperanto_prototype as cle  # version 0.24.5\n",
    "import napari\n",
    "if 'viewer' not in globals():\n",
    "    viewer = napari.Viewer()\n",
    "\n",
    "image0_i2 = viewer.layers['image_2d'].data\n",
    "\n",
    "# gaussian blur\n",
    "\n",
    "image1_gbp = cle.gaussian_blur(image0_i2, None, 2.0, 2.0, 0.0)\n",
    "viewer.add_image(\n",
    "    image1_gbp, name='Result of gaussian_blur (pyclesperanto_prototype)')\n",
    "\n",
    "# subtract gaussian background\n",
    "\n",
    "image2_sgbp = cle.subtract_gaussian_background(image1_gbp, None, 8.0, 8.0, 0.0)\n",
    "viewer.add_image(\n",
    "    image2_sgbp, name='Result of subtract_gaussian_background (pyclesperanto_prototype)')"
   ]
  },
  {
   "cell_type": "code",
   "execution_count": 15,
   "id": "35d24c6f-8538-449c-967d-70638ed7bd1f",
   "metadata": {},
   "outputs": [],
   "source": [
    "viewer.close()"
   ]
  },
  {
   "cell_type": "code",
   "execution_count": 16,
   "id": "0343d9cb-b7a8-4bc7-9488-8827bce56f7f",
   "metadata": {},
   "outputs": [
    {
     "data": {
      "text/plain": [
       "<matplotlib.image.AxesImage at 0x7f634df8c750>"
      ]
     },
     "execution_count": 16,
     "metadata": {},
     "output_type": "execute_result"
    },
    {
     "data": {
      "image/png": "[encoded data removed]",
      "text/plain": [
       "<Figure size 640x480 with 1 Axes>"
      ]
     },
     "metadata": {},
     "output_type": "display_data"
    }
   ],
   "source": [
    "nrows, ncols = 1, 3\n",
    "fig, ax = plt.subplots(nrows, ncols, sharex=True, sharey=True)\n",
    "\n",
    "df.sort_values(by=['Blastema width, um'], inplace=True)\n",
    "plt.imshow( image_2d )"
   ]
  },
  {
   "cell_type": "code",
   "execution_count": null,
   "id": "9a06e8d0-6c78-48a2-994b-f94c73328a3e",
   "metadata": {},
   "outputs": [],
   "source": []
  }
 ],
 "metadata": {
  "celltoolbar": "Hide code",
  "kernelspec": {
   "display_name": "Python 3 (ipykernel)",
   "language": "python",
   "name": "python3"
  },
  "language_info": {
   "codemirror_mode": {
    "name": "ipython",
    "version": 3
   },
   "file_extension": ".py",
   "mimetype": "text/x-python",
   "name": "python",
   "nbconvert_exporter": "python",
   "pygments_lexer": "ipython3",
   "version": "3.11.11"
  },
  "toc-showmarkdowntxt": false
 },
 "nbformat": 4,
 "nbformat_minor": 5
}
