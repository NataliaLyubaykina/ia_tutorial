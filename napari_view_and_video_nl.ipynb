{
 "cells": [
  {
   "cell_type": "code",
   "execution_count": 1,
   "id": "1448d626-9b77-4c37-be16-1fc810587e7f",
   "metadata": {
    "hideCode": true,
    "hidePrompt": false,
    "scrolled": true,
    "tags": []
   },
   "outputs": [
    {
     "name": "stderr",
     "output_type": "stream",
     "text": [
      "/home/natalia/miniconda3/envs/ia_tutorial/lib/python3.11/site-packages/pytools/persistent_dict.py:52: RecommendedHashNotFoundWarning: Unable to import recommended hash 'siphash24.siphash13', falling back to 'hashlib.sha256'. Run 'python3 -m pip install siphash24' to install the recommended hash.\n",
      "  warn(\"Unable to import recommended hash 'siphash24.siphash13', \"\n"
     ]
    }
   ],
   "source": [
    "import numpy as np\n",
    "import pandas as pd\n",
    "import matplotlib.pylab as plt\n",
    "import os\n",
    "import ipywidgets as widgets\n",
    "\n",
    "import pyclesperanto_prototype as cle\n",
    "from scipy import ndimage\n",
    "from apoc import ObjectSegmenter\n",
    "import napari\n",
    "import tifffile"
   ]
  },
  {
   "cell_type": "markdown",
   "id": "8b9efc54-069e-45db-89e5-8c193de7d526",
   "metadata": {},
   "source": [
    "# GPU device"
   ]
  },
  {
   "cell_type": "code",
   "execution_count": 2,
   "id": "8108304d-b9b8-490f-b2fd-a854ba014205",
   "metadata": {},
   "outputs": [
    {
     "name": "stdout",
     "output_type": "stream",
     "text": [
      "Device name: NVIDIA GeForce RTX 4090\n"
     ]
    }
   ],
   "source": [
    "device = cle.get_device()\n",
    "print(\"Device name:\", device.name)"
   ]
  },
  {
   "cell_type": "markdown",
   "id": "76b69f90-30a0-4213-8f87-49f20bcc5ff4",
   "metadata": {},
   "source": [
    "# Load image (can be ignored for the first read)"
   ]
  },
  {
   "cell_type": "markdown",
   "id": "94a2d972-19fd-4266-ac47-3dae4ba8b77a",
   "metadata": {},
   "source": [
    "## Information about the image from metadata)"
   ]
  },
  {
   "cell_type": "code",
   "execution_count": 3,
   "id": "e678f942-3da3-448c-9d30-9ea21e1bff63",
   "metadata": {
    "hideCode": true,
    "tags": []
   },
   "outputs": [],
   "source": [
    "channels = {\n",
    "            \"fgf\":   0, \n",
    "            \"shh\":   1\n",
    "           }\n",
    "\n",
    "\n",
    "# Voxel size\n",
    "pixel_size_x, pixel_size_y, pixel_size_z = 2*0.9019, 2*0.9019, 2*3.9991"
   ]
  },
  {
   "cell_type": "markdown",
   "id": "a284ecbd-eacc-4cce-b82b-9850e8ee9e70",
   "metadata": {},
   "source": [
    "## Fixed values for image preprocessing"
   ]
  },
  {
   "cell_type": "code",
   "execution_count": 4,
   "id": "8615afc2-7195-49fc-8b2d-7c2b10501321",
   "metadata": {},
   "outputs": [],
   "source": [
    "pixel_size_aim_user_def = 8e-6 # pixel size for binning\n",
    "sigma = 1.25                      # for gauss filter before thresholding"
   ]
  },
  {
   "cell_type": "markdown",
   "id": "6a6d086b-c7e8-4f40-a8ed-b3832bd87763",
   "metadata": {},
   "source": [
    "## Load files"
   ]
  },
  {
   "cell_type": "code",
   "execution_count": 5,
   "id": "5c3fd9e8-5960-4eae-8999-ddbe9a946f32",
   "metadata": {
    "hideOutput": false,
    "tags": []
   },
   "outputs": [],
   "source": [
    "folder = r'example_images/nl/'"
   ]
  },
  {
   "cell_type": "code",
   "execution_count": 6,
   "id": "e1bacf18-e2f3-4eae-97e1-ed90c82c2dc1",
   "metadata": {},
   "outputs": [],
   "source": [
    "ch_paths = []\n",
    "\n",
    "# Traverse the directory tree to find matching files\n",
    "for root, dirs, files in os.walk(folder, topdown=False):\n",
    "    for current_file in files:\n",
    "        ch_paths.append(os.path.join(root, current_file))"
   ]
  },
  {
   "cell_type": "code",
   "execution_count": 7,
   "id": "882ecf7b-3551-4c5a-9709-6d76311d42a3",
   "metadata": {},
   "outputs": [],
   "source": [
    "ch_paths = sorted(\n",
    "    ch_paths,\n",
    "    key = lambda c: c.split('/c')[1].split('_')[0]\n",
    ")"
   ]
  },
  {
   "cell_type": "code",
   "execution_count": 8,
   "id": "289af06e-a752-455d-893a-024faca018fe",
   "metadata": {
    "tags": []
   },
   "outputs": [],
   "source": [
    "img = []\n",
    "for path in ch_paths:\n",
    "    i = tifffile.imread(path)\n",
    "    img.append(i[::, ::, ::])\n",
    "img = np.array(img).astype( np.uint16 )\n",
    "\n",
    "img = dict(zip(channels, img))"
   ]
  },
  {
   "cell_type": "markdown",
   "id": "68f2541e-7994-4e84-ae23-fdf7ac4a9564",
   "metadata": {},
   "source": [
    "## Binning"
   ]
  },
  {
   "cell_type": "code",
   "execution_count": 9,
   "id": "8576af70-3dbc-4cde-a506-c65d23221cd8",
   "metadata": {},
   "outputs": [
    {
     "name": "stdout",
     "output_type": "stream",
     "text": [
      "physical pixels sizes x, y, z:    1.8038 1.8038 7.9982\n",
      "downsamples pixels sizes x, y, z: 1.8038e-06 1.8038e-06 7.998199999999999e-06\n"
     ]
    }
   ],
   "source": [
    "print('physical pixels sizes x, y, z:   ', pixel_size_x, pixel_size_y, pixel_size_z)\n",
    "\n",
    "pixel_size_z = pixel_size_z * 1e-6\n",
    "pixel_size_y = pixel_size_y * 1e-6\n",
    "pixel_size_x = pixel_size_x * 1e-6\n",
    "\n",
    "pixel_size = np.array([pixel_size_z, -pixel_size_y, pixel_size_x]) # (ez, ey, ex) corresponds k, i, j table indexes\n",
    "\n",
    "print('downsamples pixels sizes x, y, z:', pixel_size_x, pixel_size_y, pixel_size_z)"
   ]
  },
  {
   "cell_type": "code",
   "execution_count": 10,
   "id": "1fed87c4-66ac-485f-bd1a-ad44771b52f3",
   "metadata": {
    "hideCode": true,
    "tags": []
   },
   "outputs": [
    {
     "name": "stdout",
     "output_type": "stream",
     "text": [
      "make isotropic\n",
      "original pixel sizes x y z 1.8038e-06 1.8038e-06 7.998199999999999e-06\n",
      "scaling facttors x y z 0.225475 0.225475 0.999775\n"
     ]
    }
   ],
   "source": [
    "print('make isotropic')\n",
    "\n",
    "pixel_size_aim = pixel_size_aim_user_def\n",
    "\n",
    "scaling_x= pixel_size_x/pixel_size_aim\n",
    "scaling_y= pixel_size_y/pixel_size_aim\n",
    "scaling_z= pixel_size_z/pixel_size_aim\n",
    "\n",
    "print('original pixel sizes x y z', pixel_size_x, pixel_size_y, pixel_size_z )\n",
    "print('scaling facttors x y z', scaling_x, scaling_y, scaling_z)"
   ]
  },
  {
   "cell_type": "code",
   "execution_count": 11,
   "id": "53201ec0-ada5-4314-8ec6-d9129c73a873",
   "metadata": {
    "tags": []
   },
   "outputs": [],
   "source": [
    "for key in img:\n",
    "    img[key] = cle.scale(img[key], None, scaling_x, scaling_y, scaling_z, centered=False, auto_size=True, linear_interpolation=True)\n",
    "    img[key] = (np.array(img[key])).astype( np.uint16 )\n",
    "\n",
    "pixel_size = np.array([pixel_size_aim, -pixel_size_aim, pixel_size_aim])"
   ]
  },
  {
   "cell_type": "markdown",
   "id": "665aa15a-ce1d-45f7-880d-d897ed9b8dae",
   "metadata": {},
   "source": [
    "# View"
   ]
  },
  {
   "cell_type": "code",
   "execution_count": 12,
   "id": "76e5c10c-11cb-49f9-aa53-a4650809c3ab",
   "metadata": {},
   "outputs": [],
   "source": [
    "pixel_size = int( pixel_size[0] * 1e6 )\n",
    "scale_u = (pixel_size, pixel_size, pixel_size)"
   ]
  },
  {
   "cell_type": "code",
   "execution_count": 13,
   "id": "d8a41e13-7b6f-41ec-8e8b-798731d0354a",
   "metadata": {},
   "outputs": [],
   "source": [
    "viewer = napari.Viewer(ndisplay=3)  \n",
    "\n",
    "viewer.add_image( img['shh'], name = 'shh', scale=scale_u, colormap='red', blending='translucent', opacity=0.5)\n",
    "viewer.add_image( img['fgf'], name = 'fgf', scale=scale_u, colormap='blue', blending='translucent', opacity=0.5)\n",
    "\n",
    "viewer.axes.visible = True\n",
    "viewer.scale_bar.visible = True\n",
    "viewer.scale_bar.unit = \"um\""
   ]
  },
  {
   "cell_type": "markdown",
   "id": "d5bb31bb-bcb2-4b3d-b890-0a13e9ef7c97",
   "metadata": {},
   "source": [
    "# Video"
   ]
  },
  {
   "cell_type": "code",
   "execution_count": 14,
   "id": "4f015b5e-bba7-44c5-a46c-cd3af78eb629",
   "metadata": {},
   "outputs": [],
   "source": [
    "from vispy.app import Timer"
   ]
  },
  {
   "cell_type": "code",
   "execution_count": 15,
   "id": "90a6de65-c0e7-4e02-93d0-ea02279249a6",
   "metadata": {},
   "outputs": [],
   "source": [
    "viewer = napari.Viewer(ndisplay=3)  \n",
    "\n",
    "viewer.add_image( img['shh'], name = 'shh', scale=scale_u, colormap='red', blending='translucent', opacity=0.5)\n",
    "viewer.add_image( img['fgf'], name = 'fgf', scale=scale_u, colormap='blue', blending='translucent', opacity=0.5)\n",
    "\n",
    "viewer.scale_bar.visible = True\n",
    "viewer.scale_bar.unit = \"um\"\n",
    "\n",
    "ROTATION_SPEED = 1 # degrees\n",
    "\n",
    "viewer.camera.angles = (0, 0, 90)\n",
    "\n",
    "# Track a single \"angle\" that we cycle from 0–360 repeatedly\n",
    "current_angle = 0\n",
    "\n",
    "def rotate_camera(event):\n",
    "    global current_angle\n",
    "    # Increment angle, wrapping it into [0, 360)\n",
    "    current_angle = (current_angle + ROTATION_SPEED) % 360\n",
    "    # Fix pitch = 0, roll = 0; only yaw changes\n",
    "    viewer.camera.angles = (0, current_angle, 90)\n",
    "\n",
    "# Use a VisPy timer to call rotate_camera repeatedly (every 50ms)\n",
    "timer = Timer(interval=0.05, connect=rotate_camera, start=True)\n",
    "\n",
    "# Start the napari event loop\n",
    "napari.run()"
   ]
  },
  {
   "cell_type": "code",
   "execution_count": null,
   "id": "e96fb17b-9a0c-48fb-b3b2-eae774c6db65",
   "metadata": {},
   "outputs": [],
   "source": []
  }
 ],
 "metadata": {
  "celltoolbar": "Hide code",
  "kernelspec": {
   "display_name": "Python 3 (ipykernel)",
   "language": "python",
   "name": "python3"
  },
  "language_info": {
   "codemirror_mode": {
    "name": "ipython",
    "version": 3
   },
   "file_extension": ".py",
   "mimetype": "text/x-python",
   "name": "python",
   "nbconvert_exporter": "python",
   "pygments_lexer": "ipython3",
   "version": "3.11.11"
  },
  "toc-showmarkdowntxt": false
 },
 "nbformat": 4,
 "nbformat_minor": 5
}
